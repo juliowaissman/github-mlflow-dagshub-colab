{
  "cells": [
    {
      "attachments": {},
      "cell_type": "markdown",
      "metadata": {
        "colab_type": "text",
        "id": "view-in-github"
      },
      "source": [
        "<a href=\"https://colab.research.google.com/github/juliowaissman/github-mlflow-dagshub-colab/blob/main/DAGsHub_x_MLflow_x_Tensorflow.ipynb\" target=\"_parent\"><img src=\"https://colab.research.google.com/assets/colab-badge.svg\" alt=\"Open In Colab\"/></a>"
      ]
    },
    {
      "attachments": {},
      "cell_type": "markdown",
      "metadata": {
        "id": "umDJ3c6hCwyC"
      },
      "source": [
        "<center> <img src=\"https://dagshub.com/nirbarazida/images/raw/6d13128f89fd7c9d66e8e01282cd5a35a41a82e7/colab-mlflow/mlflow-dagshub-ten.png\" height=\"\"/>\n",
        "</center>\n",
        "\n",
        "<center><h1>Log Tensorflow's model to an MLflow server on DAGsHub </h1>\n",
        "\n",
        "<h1>Colab Environment</h1></center>\n",
        "\n",
        "---\n",
        "\n",
        "## Hello and Welcome to DAGsHub! 👋 \n",
        "\n",
        "We are very excited to have you on [DAGsHub](https://dagshub.com) and can't wait to see what remarkable projects you will create and share with the Data Science community. \n",
        "<br>\n",
        "\n",
        "\n",
        "The primary goal of this notebook is to showcase how to **live-log a Tensorflow model to an MLflow server on DAGsHub**.\n",
        "\n",
        "<u>**Our workflow will be as follow**</u>:\n",
        "- Open a new project on DAHsHub, to which an MLflow server is automatically connected.\n",
        "- Configure MLflow locally with the repository's MLflow server. \n",
        "- Train a reasnet50 model from Tensorflow using transfer learning on the MNIST data set. \n",
        "- See the training progress (LIVE) on DAGsHub under the Experiment Tab with graph visualization.\n",
        "\n",
        "\n",
        "<img src=\"https://dragonballz.co.il/wp-content/uploads/2020/12/discord-logo.jpg\" height=\"23\"/> [Discord Channel](https://discord.com/channels/698874030052212737/698874030572437526) | <img src=\"https://upload.wikimedia.org/wikipedia/commons/thumb/c/c9/Linkedin.svg/1200px-Linkedin.svg.png\" height=\"23\"/> [LinkedIn](https://www.linkedin.com/company/dagshub/) | <img src=\"https://help.twitter.com/content/dam/help-twitter/brand/logo.png\" height=\"25\"/> [Twitter](https://twitter.com/TheRealDAGsHub) | <img src=\"https://res-2.cloudinary.com/crunchbase-production/image/upload/c_lpad,f_auto,q_auto:eco/plwmuai9t3okgwbuhkho\" height=\"30\"/> [DAGsHub](https://dagshub.com) | <img src=\"https://upload.wikimedia.org/wikipedia/commons/thumb/9/91/Octicons-mark-github.svg/1200px-Octicons-mark-github.svg.png\" height=\"25\"/> [GitHub](https://github.com/DAGsHub) | <img src=\"https://miro.medium.com/max/4000/0*4Z6mwORGhtSAgeQ2.png\" height=\"30\"/> [Tensorflow](https://www.tensorflow.org/)\n",
        "\n"
      ]
    },
    {
      "attachments": {},
      "cell_type": "markdown",
      "metadata": {
        "id": "Eib4Ks8sfarR"
      },
      "source": [
        "# Change the Runtime to GPU\n",
        "\n",
        "On the top nav-bar, choose `Runtme`, click on `change runtime type`, and under `Hardware accelerator` choose GPU.\n"
      ]
    },
    {
      "attachments": {},
      "cell_type": "markdown",
      "metadata": {
        "id": "RZx2_5zulSwE"
      },
      "source": [
        "# Create a Repository on DAGsHub 🏗 "
      ]
    },
    {
      "attachments": {},
      "cell_type": "markdown",
      "metadata": {
        "id": "Eu2l1fRSWOHq"
      },
      "source": [
        "- We will start by [creating a new repository](https://dagshub.com/repo/create) on DAGsHub.\n",
        "- Fill in the repository name as 'tracking-example and make sure that the repository is public. Then click the 'Create Repository' button at the bottom. \n",
        "\n",
        "\n",
        "<center>\n",
        "<img src=\"https://dagshub.com/nirbarazida/images/raw/22ffadf74508f2f8626a528ea55f0fbf3d43f941/colab-mlflow/create-a-repo.png\" height=\"700\"/> \n",
        "</center>\n",
        "\n",
        "<center><b>Congratulations</b> - you created your first DAGsHub repository! 🥳 </center>\n",
        "\n"
      ]
    },
    {
      "attachments": {},
      "cell_type": "markdown",
      "metadata": {
        "id": "2KNYlKUhmvhn"
      },
      "source": [
        "# Configure MLflow 🧐"
      ]
    },
    {
      "cell_type": "code",
      "execution_count": null,
      "metadata": {
        "id": "r5TnrfoBmvho",
        "vscode": {
          "languageId": "python"
        }
      },
      "outputs": [],
      "source": [
        "import requests\n",
        "from getpass import getpass\n",
        "import datetime"
      ]
    },
    {
      "attachments": {},
      "cell_type": "markdown",
      "metadata": {
        "id": "C6r0RlC3mvho"
      },
      "source": [
        "**Set Environment Variables**\n"
      ]
    },
    {
      "cell_type": "code",
      "execution_count": null,
      "metadata": {
        "cellView": "form",
        "id": "S4yuBfAMmvhp",
        "vscode": {
          "languageId": "python"
        }
      },
      "outputs": [],
      "source": [
        "#@title Enter the repository name for the project:\n",
        "\n",
        "REPO_NAME= \"github-mlflow-dagshub-colab\" #@param {type:\"string\"}"
      ]
    },
    {
      "cell_type": "code",
      "execution_count": null,
      "metadata": {
        "cellView": "form",
        "id": "i_1jiOvFqPmH",
        "vscode": {
          "languageId": "python"
        }
      },
      "outputs": [],
      "source": [
        "#@title Enter the repository name for the project:\n",
        "\n",
        "REPO_OWNER= \"juliowaissman\" #@param {type:\"string\"}"
      ]
    },
    {
      "cell_type": "code",
      "execution_count": null,
      "metadata": {
        "cellView": "form",
        "id": "Gud7p2CImvhp",
        "vscode": {
          "languageId": "python"
        }
      },
      "outputs": [],
      "source": [
        "#@title Enter the username of your DAGsHub account:\n",
        "\n",
        "USER_NAME = \"juliowaissman\" #@param {type:\"string\"}"
      ]
    },
    {
      "cell_type": "code",
      "execution_count": null,
      "metadata": {
        "vscode": {
          "languageId": "python"
        }
      },
      "outputs": [],
      "source": [
        "#@title Enter the experiment name:\n",
        "\n",
        "EXPERIMENT_NAME = \"Modelo simple\" #@param {type:\"string\"}"
      ]
    },
    {
      "attachments": {},
      "cell_type": "markdown",
      "metadata": {
        "id": "-7obWezimvhq"
      },
      "source": [
        "**Initialize MLflow**"
      ]
    },
    {
      "cell_type": "code",
      "execution_count": null,
      "metadata": {
        "colab": {
          "base_uri": "https://localhost:8080/"
        },
        "id": "BZw-NNpjmvhr",
        "outputId": "28d2ad3b-ea97-427d-9d37-6521ca242115",
        "vscode": {
          "languageId": "python"
        }
      },
      "outputs": [],
      "source": [
        "!pip install mlflow --quiet\n",
        "\n",
        "import mlflow\n",
        "import os\n",
        "from getpass import getpass"
      ]
    },
    {
      "attachments": {},
      "cell_type": "markdown",
      "metadata": {
        "id": "NVIOWPHaaX8I"
      },
      "source": [
        "**Set Local Configurations**\n",
        "\n",
        "Under the [Token tab](https://dagshub.com/user/settings/tokens) in the user setting, copy the default token and use it here."
      ]
    },
    {
      "cell_type": "code",
      "execution_count": null,
      "metadata": {
        "colab": {
          "base_uri": "https://localhost:8080/"
        },
        "id": "23xJYGGJmvhu",
        "outputId": "d8f394df-7a46-46f0-bffd-2522f0a8881e",
        "vscode": {
          "languageId": "python"
        }
      },
      "outputs": [],
      "source": [
        "os.environ['MLFLOW_TRACKING_USERNAME'] = 'juliowaissman'\n",
        "os.environ['MLFLOW_TRACKING_PASSWORD'] = getpass('Enter your DAGsHub access token or password: ')\n",
        "\n",
        "mlflow.set_tracking_uri(f'https://dagshub.com/{REPO_OWNER}/{REPO_NAME}.mlflow')\n",
        "experiment = mlflow.set_experiment(EXPERIMENT_NAME)"
      ]
    },
    {
      "attachments": {},
      "cell_type": "markdown",
      "metadata": {
        "id": "BIPbycQ9KkTb"
      },
      "source": [
        "# Model 🪐"
      ]
    },
    {
      "cell_type": "code",
      "execution_count": null,
      "metadata": {
        "id": "4mXifSWopksr",
        "vscode": {
          "languageId": "python"
        }
      },
      "outputs": [],
      "source": [
        "import tensorflow as tf\n",
        "import IPython\n",
        "import numpy as np\n",
        "import matplotlib.pyplot as plt"
      ]
    },
    {
      "attachments": {},
      "cell_type": "markdown",
      "metadata": {
        "id": "gcAedEf9nGmm"
      },
      "source": [
        "## Import the Data Files"
      ]
    },
    {
      "attachments": {},
      "cell_type": "markdown",
      "metadata": {
        "id": "xgRwnXOQxYMO"
      },
      "source": [
        "![](https://camo.githubusercontent.com/01c057a753e92a9bc70b8c45d62b295431851c09cffadf53106fc0aea7e2843f/687474703a2f2f692e7974696d672e636f6d2f76692f3051493378675875422d512f687164656661756c742e6a7067)"
      ]
    },
    {
      "cell_type": "code",
      "execution_count": null,
      "metadata": {
        "colab": {
          "base_uri": "https://localhost:8080/"
        },
        "id": "ZIJLE6lrplAN",
        "outputId": "43b34854-ce7e-4f8d-c220-d872696545b8",
        "vscode": {
          "languageId": "python"
        }
      },
      "outputs": [],
      "source": [
        "mnist = tf.keras.datasets.mnist\n",
        "\n",
        "(X_train, y_train), (X_test, y_test) = mnist.load_data()\n",
        "X_train, X_test = X_train / 255.0, X_test / 255.0"
      ]
    },
    {
      "cell_type": "code",
      "execution_count": null,
      "metadata": {
        "colab": {
          "base_uri": "https://localhost:8080/",
          "height": 856
        },
        "id": "rlZy5snKxe0I",
        "outputId": "6999c930-1d5d-4cae-f85c-54f76aef1d13",
        "vscode": {
          "languageId": "python"
        }
      },
      "outputs": [],
      "source": [
        "image = np.reshape(X_train[1], [28, 28])\n",
        "image_array = np.asarray(image)\n",
        "fig, ax = plt.subplots(figsize=(10, 15))\n",
        "img = ax.imshow(image_array, cmap='gray')\n",
        "\n",
        "for x in range(28):\n",
        "    for y in range(28):\n",
        "        value = round(image[y][x], 2)\n",
        "        color = 'black' if value > 0.5 else 'white'\n",
        "        ax.annotate(text=value, xy=(x, y), ha='center', va='center', color=color)"
      ]
    },
    {
      "attachments": {},
      "cell_type": "markdown",
      "metadata": {
        "id": "hDoMtJUfnLcT"
      },
      "source": [
        "## Configure a Tensorflow Model"
      ]
    },
    {
      "cell_type": "code",
      "execution_count": null,
      "metadata": {
        "id": "TKVAJU6Rpk99",
        "vscode": {
          "languageId": "python"
        }
      },
      "outputs": [],
      "source": [
        "model = tf.keras.models.Sequential([\n",
        "  tf.keras.layers.Flatten(input_shape=(28, 28)),\n",
        "  tf.keras.layers.Dense(128, activation='relu'),\n",
        "  tf.keras.layers.Dropout(0.2),\n",
        "  tf.keras.layers.Dense(10)\n",
        "])"
      ]
    },
    {
      "cell_type": "code",
      "execution_count": null,
      "metadata": {
        "id": "0DLoBgKCpk7m",
        "vscode": {
          "languageId": "python"
        }
      },
      "outputs": [],
      "source": [
        "loss_fn = tf.keras.losses.SparseCategoricalCrossentropy(from_logits=True)\n",
        "\n",
        "model.compile(optimizer='adam',\n",
        "              loss=loss_fn,\n",
        "              metrics=['accuracy'])"
      ]
    },
    {
      "attachments": {},
      "cell_type": "markdown",
      "metadata": {
        "id": "2mD7BGs9pUsv"
      },
      "source": [
        "## Set MLflow Auto-Logging"
      ]
    },
    {
      "cell_type": "code",
      "execution_count": null,
      "metadata": {
        "colab": {
          "base_uri": "https://localhost:8080/"
        },
        "id": "YJ9NYdkUrO4N",
        "outputId": "484f543e-85f3-49e7-e952-8de08d9c0762",
        "vscode": {
          "languageId": "python"
        }
      },
      "outputs": [],
      "source": [
        " mlflow.tensorflow.autolog(registered_model_name=\"simplev3\")\n",
        " mlflow.log_param(\"parametro de prueba\",2)\n",
        " mlflow.log_metric(\"metrica de prueba\", 3.14159)\n",
        " \n",
        " print(\"El experimento se puede ver en:\")\n",
        " print(f\"https://dagshub.com/{REPO_OWNER}/{REPO_NAME}/experiments/#/\")"
      ]
    },
    {
      "attachments": {},
      "cell_type": "markdown",
      "metadata": {
        "id": "JGurX8PANiJT"
      },
      "source": [
        "## Train the Model"
      ]
    },
    {
      "cell_type": "code",
      "execution_count": null,
      "metadata": {
        "colab": {
          "base_uri": "https://localhost:8080/"
        },
        "id": "ybcy1GiRuHp5",
        "outputId": "c2a7de73-ef03-4715-fbc2-acd08b97644c",
        "vscode": {
          "languageId": "python"
        }
      },
      "outputs": [],
      "source": [
        "model.fit(X_train, y_train, batch_size= 32, validation_split=0.2, epochs=50,verbose=0)"
      ]
    },
    {
      "attachments": {},
      "cell_type": "markdown",
      "metadata": {},
      "source": [
        "## Stop run"
      ]
    },
    {
      "cell_type": "code",
      "execution_count": null,
      "metadata": {
        "vscode": {
          "languageId": "python"
        }
      },
      "outputs": [],
      "source": [
        "mlflow.end_run(status='FINISHED')"
      ]
    },
    {
      "attachments": {},
      "cell_type": "markdown",
      "metadata": {
        "id": "XcU2y1F_Hyub"
      },
      "source": [
        "# Finish Line 🏁"
      ]
    },
    {
      "attachments": {},
      "cell_type": "markdown",
      "metadata": {
        "id": "TzKu-M0dMix-"
      },
      "source": [
        "**Congratulations**  - You made it to the finish line! 🥳\n",
        "\n",
        "In this section, we covered how to track fast.ai models with MLflow to DAGsHub servers. If you want to start fast with DAGsHub, this [notebook](https://colab.research.google.com/drive/1JJIwAH0TBSY49um5s2FD0GEA6bw3SKrd#scrollTo=XcU2y1F_Hyub) is for you.  <br><br>\n",
        "\n",
        "More resources that can interest you:\n",
        "- [DAGsHub Docs](https://dagshub.com/docs/).\n",
        "- [Get Started Tutorial](https://dagshub.com/docs/getting-started/overview/).\n",
        "- [DAGsHub Blog](https://dagshub.com/blog/).\n",
        "- [FAQ](https://dagshub.com/docs/faq/).\n",
        "\n",
        "<br>\n",
        "\n",
        "We hope that this Tutorial was helpful and made the onboarding process easier for you. If you found an issue in the notebook, please [let us know](https://dagshub.com/DAGsHub-Official/DAGsHub-Issues/issues/). If you have any questions feel free to join our [Discord channel](https://discord.com/invite/9gU36Y6) and ask there. We can't wait to see what remarkable project you will create and share with the Data Science community!\n",
        "<br><br>"
      ]
    }
  ],
  "metadata": {
    "accelerator": "GPU",
    "colab": {
      "gpuType": "T4",
      "include_colab_link": true,
      "provenance": []
    },
    "gpuClass": "standard",
    "kernelspec": {
      "display_name": "Python 3",
      "name": "python3"
    }
  },
  "nbformat": 4,
  "nbformat_minor": 0
}
